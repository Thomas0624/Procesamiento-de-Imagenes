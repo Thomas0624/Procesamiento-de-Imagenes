{
 "cells": [
  {
   "cell_type": "markdown",
   "metadata": {},
   "source": [
    "# Operaciones Basicas:"
   ]
  },
  {
   "cell_type": "markdown",
   "metadata": {},
   "source": [
    "__Remuestro e interpolacion de imagenes:__\n",
    "- Necesita remuestro cuando:\n",
    "    - Cambio de escala\n",
    "    - Transformacion geometrica\n",
    "    - La salida de las coordenadas de la imagen no es discreta\n",
    "- Metodos de Interpolacion:\n",
    "    - Vecinos cercanos:\n",
    "        - Rapido y simple\n",
    "        - Perdida de nitidez\n",
    "        - \n",
    "    - Bilinear\n",
    "    - Bicubic\n",
    "        - Las imagenes son nitidaz\n",
    "        - Los detalles importantes se conservan\n",
    "        - Lento\n",
    "\n",
    "__Image Interpolation - Vecinos cercanos:__ \n",
    "- Asigna a cada pixel de la imagen de salida, el vecino mas cercano de la imagen de entrada\n",
    "\n",
    "__Image Interpolation - Bilinear:__\n",
    "- El cálculo del nuevo valor de píxel se realiza mediante el peso de los cuatro píxeles circundantes.\n",
    "- Se realiza mediante la siguiente ecuación:\n",
    "    - $P'(x,y) = P(1,1) \\times (1-d) \\times(1-d') + P(1,2) \\times d \\times (1-d') + P(2,1) \\times d' \\times (1-d) + P(2,2) \\times d \\times d'$\n",
    "    - P'(x,y): Representa el valor interpolado en la posición (x, y) de la imagen resultante.\n",
    "    - P(1,1), P(1,2), P(2,1), P(2,2): Representan los valores de los cuatro píxeles vecinos en la imagen original que forman el cuadrado que rodea la posición (x, y).\n",
    "    - d y d': Representan factores de ponderación entre 0 y 1 que determinan la contribución de cada píxel vecino a la interpolación. d(para horizontal), d'(para vertical)\n",
    "\n",
    "__Image "
   ]
  },
  {
   "cell_type": "markdown",
   "metadata": {},
   "source": []
  },
  {
   "cell_type": "markdown",
   "metadata": {},
   "source": []
  }
 ],
 "metadata": {
  "language_info": {
   "name": "python"
  }
 },
 "nbformat": 4,
 "nbformat_minor": 2
}
